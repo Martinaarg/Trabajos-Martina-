{
 "cells": [
  {
   "cell_type": "code",
   "execution_count": 2,
   "metadata": {},
   "outputs": [
    {
     "name": "stdout",
     "output_type": "stream",
     "text": [
      "Hola Mundo\n"
     ]
    }
   ],
   "source": [
    "print(\"Hola Mundo\")"
   ]
  },
  {
   "cell_type": "markdown",
   "metadata": {},
   "source": [
    "2do C Rodriguez Galan Martina "
   ]
  },
  {
   "cell_type": "markdown",
   "metadata": {},
   "source": [
    "## Mis primeros descriptivos con pandas "
   ]
  },
  {
   "cell_type": "markdown",
   "metadata": {},
   "source": [
    "texto 1"
   ]
  },
  {
   "cell_type": "code",
   "execution_count": 3,
   "metadata": {},
   "outputs": [],
   "source": [
    " import pandas "
   ]
  },
  {
   "cell_type": "markdown",
   "metadata": {},
   "source": [
    "texto 2"
   ]
  },
  {
   "cell_type": "code",
   "execution_count": 20,
   "metadata": {},
   "outputs": [],
   "source": [
    "\n",
    "\n",
    "#crear un diccionario con datos de edad y peso\n",
    "datos = {\n",
    "    'edad': [8, 9, 10, 11, 12],\n",
    "    'peso': [30, 32, 35, 37, 40]\n",
    "}\n",
    "#convertir un diccionario en un DataFrame de pandas para anaisis de datos\n",
    "df = pandas.DataFrame(datos) \n"
   ]
  },
  {
   "cell_type": "markdown",
   "metadata": {},
   "source": [
    "texto 3"
   ]
  },
  {
   "cell_type": "code",
   "execution_count": 19,
   "metadata": {},
   "outputs": [
    {
     "name": "stdout",
     "output_type": "stream",
     "text": [
      "media de edad: 10.0\n",
      "desviacion tipica de edad: 1.5811388300841898\n",
      "media de peso: 34.8\n",
      "desviacion tipica de peso: 3.9623225512317903\n"
     ]
    }
   ],
   "source": [
    "media_edad = df['edad'].mean() \n",
    "desviacion_tipica_edad = df['edad'].std() \n",
    "\n",
    "media_peso = df['peso'].mean()\n",
    "desviacion_tipica_peso = df['peso'].std()\n",
    "\n",
    "print(\"media de edad:\", media_edad)\n",
    "print(\"desviacion tipica de edad:\", desviacion_tipica_edad)\n",
    "print(\"media de peso:\", media_peso)\n",
    "print(\"desviacion tipica de peso:\", desviacion_tipica_peso)  "
   ]
  }
 ],
 "metadata": {
  "kernelspec": {
   "display_name": "Python 3",
   "language": "python",
   "name": "python3"
  },
  "language_info": {
   "codemirror_mode": {
    "name": "ipython",
    "version": 3
   },
   "file_extension": ".py",
   "mimetype": "text/x-python",
   "name": "python",
   "nbconvert_exporter": "python",
   "pygments_lexer": "ipython3",
   "version": "3.11.9"
  }
 },
 "nbformat": 4,
 "nbformat_minor": 2
}
